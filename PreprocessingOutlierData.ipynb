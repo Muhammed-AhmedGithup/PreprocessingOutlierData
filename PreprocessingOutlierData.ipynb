{
 "cells": [
  {
   "cell_type": "markdown",
   "id": "a649adf5-23bf-49b5-8418-bfb000c4b93d",
   "metadata": {},
   "source": [
    "## Import Libraries"
   ]
  },
  {
   "cell_type": "code",
   "execution_count": 1,
   "id": "7cae902d-427c-4444-8e24-77414f119c49",
   "metadata": {},
   "outputs": [],
   "source": [
    "import pandas as pd\n",
    "import numpy as np\n",
    "import matplotlib.pyplot as plt\n",
    "import seaborn as sns\n",
    "import scipy.stats"
   ]
  },
  {
   "cell_type": "markdown",
   "id": "427cdd33-bf6a-49be-884f-6eb2e25b3523",
   "metadata": {},
   "source": [
    "## load data"
   ]
  },
  {
   "cell_type": "code",
   "execution_count": 2,
   "id": "2eaba135-b2b3-45cf-b124-4518a84a8a69",
   "metadata": {},
   "outputs": [
    {
     "data": {
      "text/html": [
       "<div>\n",
       "<style scoped>\n",
       "    .dataframe tbody tr th:only-of-type {\n",
       "        vertical-align: middle;\n",
       "    }\n",
       "\n",
       "    .dataframe tbody tr th {\n",
       "        vertical-align: top;\n",
       "    }\n",
       "\n",
       "    .dataframe thead th {\n",
       "        text-align: right;\n",
       "    }\n",
       "</style>\n",
       "<table border=\"1\" class=\"dataframe\">\n",
       "  <thead>\n",
       "    <tr style=\"text-align: right;\">\n",
       "      <th></th>\n",
       "      <th>Unnamed: 0</th>\n",
       "      <th>id</th>\n",
       "      <th>age</th>\n",
       "      <th>gender</th>\n",
       "      <th>income</th>\n",
       "      <th>days_on_platform</th>\n",
       "      <th>city</th>\n",
       "      <th>purchases</th>\n",
       "    </tr>\n",
       "  </thead>\n",
       "  <tbody>\n",
       "    <tr>\n",
       "      <th>0</th>\n",
       "      <td>0</td>\n",
       "      <td>0</td>\n",
       "      <td>NaN</td>\n",
       "      <td>Male</td>\n",
       "      <td>126895</td>\n",
       "      <td>14.0</td>\n",
       "      <td>San Francisco</td>\n",
       "      <td>0</td>\n",
       "    </tr>\n",
       "    <tr>\n",
       "      <th>1</th>\n",
       "      <td>1</td>\n",
       "      <td>1</td>\n",
       "      <td>NaN</td>\n",
       "      <td>Male</td>\n",
       "      <td>161474</td>\n",
       "      <td>14.0</td>\n",
       "      <td>Tokyo</td>\n",
       "      <td>0</td>\n",
       "    </tr>\n",
       "    <tr>\n",
       "      <th>2</th>\n",
       "      <td>2</td>\n",
       "      <td>2</td>\n",
       "      <td>24.0</td>\n",
       "      <td>Male</td>\n",
       "      <td>104723</td>\n",
       "      <td>34.0</td>\n",
       "      <td>London</td>\n",
       "      <td>1</td>\n",
       "    </tr>\n",
       "    <tr>\n",
       "      <th>3</th>\n",
       "      <td>3</td>\n",
       "      <td>3</td>\n",
       "      <td>29.0</td>\n",
       "      <td>Male</td>\n",
       "      <td>43791</td>\n",
       "      <td>28.0</td>\n",
       "      <td>London</td>\n",
       "      <td>2</td>\n",
       "    </tr>\n",
       "    <tr>\n",
       "      <th>4</th>\n",
       "      <td>4</td>\n",
       "      <td>4</td>\n",
       "      <td>18.0</td>\n",
       "      <td>Female</td>\n",
       "      <td>132181</td>\n",
       "      <td>26.0</td>\n",
       "      <td>London</td>\n",
       "      <td>2</td>\n",
       "    </tr>\n",
       "  </tbody>\n",
       "</table>\n",
       "</div>"
      ],
      "text/plain": [
       "   Unnamed: 0  id   age  gender  income  days_on_platform           city  \\\n",
       "0           0   0   NaN    Male  126895              14.0  San Francisco   \n",
       "1           1   1   NaN    Male  161474              14.0          Tokyo   \n",
       "2           2   2  24.0    Male  104723              34.0         London   \n",
       "3           3   3  29.0    Male   43791              28.0         London   \n",
       "4           4   4  18.0  Female  132181              26.0         London   \n",
       "\n",
       "   purchases  \n",
       "0          0  \n",
       "1          0  \n",
       "2          1  \n",
       "3          2  \n",
       "4          2  "
      ]
     },
     "execution_count": 2,
     "metadata": {},
     "output_type": "execute_result"
    }
   ],
   "source": [
    "df=pd.read_csv('clv_data.csv')\n",
    "df.head()"
   ]
  },
  {
   "cell_type": "markdown",
   "id": "2dac2b07-24ad-4948-bb40-3cf78369230f",
   "metadata": {},
   "source": [
    "## boxplot"
   ]
  },
  {
   "cell_type": "code",
   "execution_count": 4,
   "id": "650ec531-c85d-410e-b54d-1cf8812a0533",
   "metadata": {},
   "outputs": [
    {
     "data": {
      "text/plain": [
       "<Axes: ylabel='purchases'>"
      ]
     },
     "execution_count": 4,
     "metadata": {},
     "output_type": "execute_result"
    },
    {
     "data": {
      "image/png": "[encoded data removed]",
      "text/plain": [
       "<Figure size 640x480 with 1 Axes>"
      ]
     },
     "metadata": {},
     "output_type": "display_data"
    }
   ],
   "source": [
    "sns.boxplot(df['purchases'])"
   ]
  },
  {
   "cell_type": "code",
   "execution_count": 16,
   "id": "df58b2ed-7979-497d-96ba-d5c7b875ff8f",
   "metadata": {},
   "outputs": [],
   "source": [
    "def extract_outliers_from_boxplot(df1:pd.DataFrame):\n",
    "    q1=np.quantile(df1,0.25)\n",
    "    q3=np.quantile(df1,0.75)\n",
    "    iqr=q3-q1\n",
    "    upper=q3+1.5*iqr\n",
    "    lower=q1-1.5*iqr\n",
    "    outlier=df1[(df1<=lower)|(df1>=upper)]\n",
    "    return outlier\n",
    "    "
   ]
  },
  {
   "cell_type": "code",
   "execution_count": 17,
   "id": "79f63cfe-95a0-4a22-90de-27691134d972",
   "metadata": {},
   "outputs": [
    {
     "data": {
      "text/plain": [
       "47      5\n",
       "104     5\n",
       "142     5\n",
       "301     5\n",
       "323     5\n",
       "485     6\n",
       "486     5\n",
       "1026    5\n",
       "1104    6\n",
       "1112    5\n",
       "1120    6\n",
       "1125    5\n",
       "1374    5\n",
       "1504    5\n",
       "1623    5\n",
       "1669    6\n",
       "1670    5\n",
       "1809    6\n",
       "1818    5\n",
       "1836    5\n",
       "1870    5\n",
       "2180    5\n",
       "2463    6\n",
       "2548    5\n",
       "2572    5\n",
       "2605    5\n",
       "2717    5\n",
       "2901    5\n",
       "3032    6\n",
       "3080    5\n",
       "3105    5\n",
       "3162    5\n",
       "3170    5\n",
       "3291    5\n",
       "3298    5\n",
       "3321    5\n",
       "3361    5\n",
       "3380    5\n",
       "3410    5\n",
       "3566    5\n",
       "3603    6\n",
       "3631    6\n",
       "3835    5\n",
       "3848    5\n",
       "4003    6\n",
       "4141    5\n",
       "4334    5\n",
       "4346    5\n",
       "4545    5\n",
       "4597    5\n",
       "4611    5\n",
       "4620    5\n",
       "4662    5\n",
       "4691    5\n",
       "4728    5\n",
       "4751    5\n",
       "4761    5\n",
       "4895    5\n",
       "4958    5\n",
       "Name: purchases, dtype: int64"
      ]
     },
     "execution_count": 17,
     "metadata": {},
     "output_type": "execute_result"
    }
   ],
   "source": [
    "extract_outliers_from_boxplot(df['purchases'])"
   ]
  },
  {
   "cell_type": "markdown",
   "id": "372eba94-3e72-4c7d-b09d-b36332d57edb",
   "metadata": {},
   "source": [
    "## Violin Plot"
   ]
  },
  {
   "cell_type": "code",
   "execution_count": 15,
   "id": "6331dd50-42aa-46b3-a040-d6c76099f174",
   "metadata": {},
   "outputs": [
    {
     "data": {
      "image/png": "[encoded data removed]",
      "text/plain": [
       "<Figure size 640x480 with 1 Axes>"
      ]
     },
     "metadata": {},
     "output_type": "display_data"
    }
   ],
   "source": [
    "plt.violinplot(df['purchases'])\n",
    "plt.show()"
   ]
  },
  {
   "cell_type": "markdown",
   "id": "adf236cb-16f4-4338-b736-778b180c5b45",
   "metadata": {},
   "source": [
    "## Z-score"
   ]
  },
  {
   "cell_type": "code",
   "execution_count": 18,
   "id": "b35e89e1-92ce-42f7-a5d3-0278ea75a51e",
   "metadata": {},
   "outputs": [],
   "source": [
    "def percentile_outliers(df1:pd.Series,lower_bound,upper_bound):\n",
    "    l=np.percentile(df1,lower_bound)\n",
    "    u=np.percentile(df1,upper_bound)\n",
    "    outlier=df1[(df1<=l)|(df1>=u)]\n",
    "    return outlier\n",
    "\n",
    "def zscore_outlier(df1:pd.Series,lower_bound,upper_bound):\n",
    "    score=scipy.stats.zscore(df1)\n",
    "    outlier=df1[(df1<-1.96)|(df1>1.96)]\n",
    "    return outlier\n",
    "    "
   ]
  },
  {
   "cell_type": "markdown",
   "id": "d48d9141-5178-4cb0-b57e-8018e753ac12",
   "metadata": {},
   "source": [
    "## Isolation Forests"
   ]
  },
  {
   "cell_type": "code",
   "execution_count": 23,
   "id": "48e61662-8ebc-4641-9f89-a6c95d06ccae",
   "metadata": {},
   "outputs": [
    {
     "data": {
      "text/html": [
       "<div>\n",
       "<style scoped>\n",
       "    .dataframe tbody tr th:only-of-type {\n",
       "        vertical-align: middle;\n",
       "    }\n",
       "\n",
       "    .dataframe tbody tr th {\n",
       "        vertical-align: top;\n",
       "    }\n",
       "\n",
       "    .dataframe thead th {\n",
       "        text-align: right;\n",
       "    }\n",
       "</style>\n",
       "<table border=\"1\" class=\"dataframe\">\n",
       "  <thead>\n",
       "    <tr style=\"text-align: right;\">\n",
       "      <th></th>\n",
       "      <th>Unnamed: 0</th>\n",
       "      <th>id</th>\n",
       "      <th>age</th>\n",
       "      <th>gender</th>\n",
       "      <th>income</th>\n",
       "      <th>days_on_platform</th>\n",
       "      <th>city</th>\n",
       "      <th>purchases</th>\n",
       "      <th>scores</th>\n",
       "      <th>anomaly</th>\n",
       "    </tr>\n",
       "  </thead>\n",
       "  <tbody>\n",
       "    <tr>\n",
       "      <th>9</th>\n",
       "      <td>9</td>\n",
       "      <td>9</td>\n",
       "      <td>49.0</td>\n",
       "      <td>Female</td>\n",
       "      <td>76842</td>\n",
       "      <td>19.0</td>\n",
       "      <td>Tokyo</td>\n",
       "      <td>2</td>\n",
       "      <td>-0.026293</td>\n",
       "      <td>-1</td>\n",
       "    </tr>\n",
       "    <tr>\n",
       "      <th>15</th>\n",
       "      <td>15</td>\n",
       "      <td>15</td>\n",
       "      <td>31.0</td>\n",
       "      <td>Female</td>\n",
       "      <td>226249</td>\n",
       "      <td>20.0</td>\n",
       "      <td>Miami</td>\n",
       "      <td>0</td>\n",
       "      <td>-0.031568</td>\n",
       "      <td>-1</td>\n",
       "    </tr>\n",
       "    <tr>\n",
       "      <th>17</th>\n",
       "      <td>17</td>\n",
       "      <td>17</td>\n",
       "      <td>27.0</td>\n",
       "      <td>Female</td>\n",
       "      <td>177582</td>\n",
       "      <td>2.0</td>\n",
       "      <td>London</td>\n",
       "      <td>0</td>\n",
       "      <td>-0.020629</td>\n",
       "      <td>-1</td>\n",
       "    </tr>\n",
       "    <tr>\n",
       "      <th>18</th>\n",
       "      <td>18</td>\n",
       "      <td>18</td>\n",
       "      <td>10.0</td>\n",
       "      <td>Female</td>\n",
       "      <td>260</td>\n",
       "      <td>32.0</td>\n",
       "      <td>San Francisco</td>\n",
       "      <td>0</td>\n",
       "      <td>-0.034325</td>\n",
       "      <td>-1</td>\n",
       "    </tr>\n",
       "    <tr>\n",
       "      <th>23</th>\n",
       "      <td>23</td>\n",
       "      <td>23</td>\n",
       "      <td>10.0</td>\n",
       "      <td>Female</td>\n",
       "      <td>108804</td>\n",
       "      <td>5.0</td>\n",
       "      <td>Tokyo</td>\n",
       "      <td>2</td>\n",
       "      <td>-0.027888</td>\n",
       "      <td>-1</td>\n",
       "    </tr>\n",
       "    <tr>\n",
       "      <th>...</th>\n",
       "      <td>...</td>\n",
       "      <td>...</td>\n",
       "      <td>...</td>\n",
       "      <td>...</td>\n",
       "      <td>...</td>\n",
       "      <td>...</td>\n",
       "      <td>...</td>\n",
       "      <td>...</td>\n",
       "      <td>...</td>\n",
       "      <td>...</td>\n",
       "    </tr>\n",
       "    <tr>\n",
       "      <th>4969</th>\n",
       "      <td>4969</td>\n",
       "      <td>4969</td>\n",
       "      <td>49.0</td>\n",
       "      <td>Female</td>\n",
       "      <td>28243</td>\n",
       "      <td>13.0</td>\n",
       "      <td>New York City</td>\n",
       "      <td>0</td>\n",
       "      <td>-0.015980</td>\n",
       "      <td>-1</td>\n",
       "    </tr>\n",
       "    <tr>\n",
       "      <th>4970</th>\n",
       "      <td>4970</td>\n",
       "      <td>4970</td>\n",
       "      <td>34.0</td>\n",
       "      <td>Female</td>\n",
       "      <td>9850</td>\n",
       "      <td>3.0</td>\n",
       "      <td>New York City</td>\n",
       "      <td>3</td>\n",
       "      <td>-0.016508</td>\n",
       "      <td>-1</td>\n",
       "    </tr>\n",
       "    <tr>\n",
       "      <th>4979</th>\n",
       "      <td>4979</td>\n",
       "      <td>4979</td>\n",
       "      <td>50.0</td>\n",
       "      <td>Male</td>\n",
       "      <td>90750</td>\n",
       "      <td>71.0</td>\n",
       "      <td>New York City</td>\n",
       "      <td>1</td>\n",
       "      <td>-0.115592</td>\n",
       "      <td>-1</td>\n",
       "    </tr>\n",
       "    <tr>\n",
       "      <th>4984</th>\n",
       "      <td>4984</td>\n",
       "      <td>4984</td>\n",
       "      <td>24.0</td>\n",
       "      <td>Female</td>\n",
       "      <td>225155</td>\n",
       "      <td>8.0</td>\n",
       "      <td>San Francisco</td>\n",
       "      <td>2</td>\n",
       "      <td>-0.066971</td>\n",
       "      <td>-1</td>\n",
       "    </tr>\n",
       "    <tr>\n",
       "      <th>4990</th>\n",
       "      <td>4990</td>\n",
       "      <td>4990</td>\n",
       "      <td>33.0</td>\n",
       "      <td>Male</td>\n",
       "      <td>3020</td>\n",
       "      <td>89.0</td>\n",
       "      <td>New York City</td>\n",
       "      <td>0</td>\n",
       "      <td>-0.077781</td>\n",
       "      <td>-1</td>\n",
       "    </tr>\n",
       "  </tbody>\n",
       "</table>\n",
       "<p>978 rows × 10 columns</p>\n",
       "</div>"
      ],
      "text/plain": [
       "      Unnamed: 0    id   age  gender  income  days_on_platform           city  \\\n",
       "9              9     9  49.0  Female   76842              19.0          Tokyo   \n",
       "15            15    15  31.0  Female  226249              20.0          Miami   \n",
       "17            17    17  27.0  Female  177582               2.0         London   \n",
       "18            18    18  10.0  Female     260              32.0  San Francisco   \n",
       "23            23    23  10.0  Female  108804               5.0          Tokyo   \n",
       "...          ...   ...   ...     ...     ...               ...            ...   \n",
       "4969        4969  4969  49.0  Female   28243              13.0  New York City   \n",
       "4970        4970  4970  34.0  Female    9850               3.0  New York City   \n",
       "4979        4979  4979  50.0    Male   90750              71.0  New York City   \n",
       "4984        4984  4984  24.0  Female  225155               8.0  San Francisco   \n",
       "4990        4990  4990  33.0    Male    3020              89.0  New York City   \n",
       "\n",
       "      purchases    scores  anomaly  \n",
       "9             2 -0.026293       -1  \n",
       "15            0 -0.031568       -1  \n",
       "17            0 -0.020629       -1  \n",
       "18            0 -0.034325       -1  \n",
       "23            2 -0.027888       -1  \n",
       "...         ...       ...      ...  \n",
       "4969          0 -0.015980       -1  \n",
       "4970          3 -0.016508       -1  \n",
       "4979          1 -0.115592       -1  \n",
       "4984          2 -0.066971       -1  \n",
       "4990          0 -0.077781       -1  \n",
       "\n",
       "[978 rows x 10 columns]"
      ]
     },
     "execution_count": 23,
     "metadata": {},
     "output_type": "execute_result"
    }
   ],
   "source": [
    "from sklearn.ensemble import IsolationForest\n",
    "\n",
    "features = ['age','income','days_on_platform','purchases']\n",
    "\n",
    "## We'll do a simple drop null for now\n",
    "df = df.dropna()\n",
    "\n",
    "## Create a training-test set\n",
    "X = df[features]\n",
    "X_train = X[:4000]\n",
    "X_test = X[1000:]\n",
    "\n",
    "## Fit Model\n",
    "clf = IsolationForest(n_estimators=50, max_samples=100)\n",
    "clf.fit(X_train)\n",
    "\n",
    "## Get Scores\n",
    "df['scores'] = clf.decision_function(X_train)\n",
    "df['anomaly'] = clf.predict(X)\n",
    "\n",
    "## Get Anomalies\n",
    "outliers=df[(df['anomaly']==-1)]\n",
    "\n",
    "outliers"
   ]
  },
  {
   "cell_type": "markdown",
   "id": "48b82c47-9e66-4fc0-8637-04b97345e3a7",
   "metadata": {},
   "source": [
    "# Outlier Treatment"
   ]
  },
  {
   "cell_type": "markdown",
   "id": "3d897919-4f0f-48a8-a557-9b40e3e639ff",
   "metadata": {},
   "source": [
    "## Removal"
   ]
  },
  {
   "cell_type": "code",
   "execution_count": 24,
   "id": "82b1fb7d-957e-4db5-8dbf-88a619610750",
   "metadata": {},
   "outputs": [],
   "source": [
    "def percentile_outliers(df1:pd.Series,lower_bound,upper_bound):\n",
    "    l=np.percentile(df1,lower_bound)\n",
    "    u=np.percentile(df1,upper_bound)\n",
    "    outlier=(df1<=l)|(df1>=u)\n",
    "    return df1[~outlier]\n",
    "\n",
    "def zscore_outlier(df1:pd.Series,lower_bound,upper_bound):\n",
    "    score=scipy.stats.zscore(df1)\n",
    "    outlier=(df1<-1.96)|(df1>1.96)\n",
    "    return df1[~outlier]"
   ]
  },
  {
   "cell_type": "markdown",
   "id": "37847f8b-c3bd-4cfe-b78a-acedc5138ce6",
   "metadata": {},
   "source": [
    "## Winsorize"
   ]
  },
  {
   "cell_type": "code",
   "execution_count": 25,
   "id": "da58e5a8-0cee-46d4-abc5-1ea8c9a4f7b1",
   "metadata": {},
   "outputs": [],
   "source": [
    "def winsorize(df, column, upper, lower):\n",
    "    col_df = df[column]\n",
    "    \n",
    "    perc_upper = np.percentile(df[column],upper)\n",
    "    perc_lower = np.percentile(df[column],lower)\n",
    "    \n",
    "    df[column] = np.where(df[column] >= perc_upper, \n",
    "                          perc_upper, \n",
    "                          df[column])\n",
    "    \n",
    "    df[column] = np.where(df[column] <= perc_lower, \n",
    "                          perc_lower, \n",
    "                          df[column])\n",
    "    \n",
    "    return df"
   ]
  },
  {
   "cell_type": "code",
   "execution_count": null,
   "id": "a0026ce9-aad8-4813-a98f-02a1ec8ca879",
   "metadata": {},
   "outputs": [],
   "source": []
  }
 ],
 "metadata": {
  "kernelspec": {
   "display_name": "Python 3 (ipykernel)",
   "language": "python",
   "name": "python3"
  },
  "language_info": {
   "codemirror_mode": {
    "name": "ipython",
    "version": 3
   },
   "file_extension": ".py",
   "mimetype": "text/x-python",
   "name": "python",
   "nbconvert_exporter": "python",
   "pygments_lexer": "ipython3",
   "version": "3.10.5"
  }
 },
 "nbformat": 4,
 "nbformat_minor": 5
}
